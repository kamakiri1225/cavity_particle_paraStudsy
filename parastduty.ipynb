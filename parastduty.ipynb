{
 "cells": [
  {
   "cell_type": "markdown",
   "id": "58400f35-7ac5-4cb7-9222-c4c1b52253fe",
   "metadata": {},
   "source": [
    "# 目的\n",
    "PyFoamでパラメータスタディを行い、PyVistaで画像出力を行う\n",
    "- オリジナルケースは```orgCase```フォルダを準備する\n",
    "\n",
    "## プログラムの流れ\n",
    "- resultsフォルダを作成\n",
    "- ```orgCase```をresultsフォルダにコピーする\n",
    "- 001_cavutyの流速を変更\n",
    "- 001_cavutyの計算実行\n",
    "- 002_particleへ移動\n",
    "- 001_cavityの流速を002_particleへマッピング\n",
    "- 粒子径を変更する\n",
    "- 計算を実行する（```Allrun```）スクリプトを実行する\n",
    "- PyVistaでresultsフォルダの中に```.png```画像ファイルを作成"
   ]
  },
  {
   "cell_type": "markdown",
   "id": "72bd7477-1c01-40e9-a941-7dff795b2e53",
   "metadata": {},
   "source": [
    "```orgCase```のAllrunスクリプトを以下としている。\n",
    "\n",
    "### Allrunスクリプト\n",
    "```\n",
    "#!/bin/bash\n",
    "\n",
    "# cavityの計算\n",
    "cd 001_cavity\n",
    "./Allrun.icoFoam\n",
    "\n",
    "# 粒子追跡の計算\n",
    "cd ..\n",
    "cd 002_particle\n",
    "./Allrun.icoUncoupledKinematicParcelFoam\n",
    "```\n",
    "\n",
    "パラスタを行う前に必ず```Allrun```スクリプトはオリジナルケース```orgCase```で実行して正常に動作することを確認すること。\n",
    "\n",
    "### 001_cavityのAllrun.icoFoamのスクリプト\n",
    "```\n",
    "#!/bin/bash\n",
    "\n",
    "#blockMesh\n",
    "icoFoam\n",
    "```\n",
    "\n",
    "### 002_particleのAllrun.icoUncoupledKinematicParcelFoamのスクリプト\n",
    "```\n",
    "#!/bin/bash\n",
    "\n",
    "mapFields ../001_cavity -sourceTime 0.5 -consistent\n",
    "icoUncoupledKinematicParcelFoam\n",
    "foamToVTK\n",
    "```\n",
    "\n",
    "# PyFoamを使ったパラスタのプログラム（画像出力はPyVista）"
   ]
  },
  {
   "cell_type": "code",
   "execution_count": 1,
   "id": "71893c49-d73f-477b-81c6-bee0bb051a91",
   "metadata": {},
   "outputs": [
    {
     "name": "stdout",
     "output_type": "stream",
     "text": [
      "results/orgCase_0：全てのクローン操作とファイル編集が完了しました。\n",
      "results/orgCase_1：全てのクローン操作とファイル編集が完了しました。\n",
      "results/orgCase_2：全てのクローン操作とファイル編集が完了しました。\n",
      "results/orgCase_3：全てのクローン操作とファイル編集が完了しました。\n",
      "results/orgCase_4：全てのクローン操作とファイル編集が完了しました。\n",
      "results/orgCase_5：全てのクローン操作とファイル編集が完了しました。\n",
      "results/orgCase_6：全てのクローン操作とファイル編集が完了しました。\n",
      "results/orgCase_7：全てのクローン操作とファイル編集が完了しました。\n",
      "results/orgCase_8：全てのクローン操作とファイル編集が完了しました。\n",
      "results/orgCase_9：全てのクローン操作とファイル編集が完了しました。\n",
      "results/orgCase_10：全てのクローン操作とファイル編集が完了しました。\n",
      "results/orgCase_11：全てのクローン操作とファイル編集が完了しました。\n",
      "results/orgCase_12：全てのクローン操作とファイル編集が完了しました。\n"
     ]
    },
    {
     "ename": "KeyboardInterrupt",
     "evalue": "",
     "output_type": "error",
     "traceback": [
      "\u001b[0;31m---------------------------------------------------------------------------\u001b[0m",
      "\u001b[0;31mKeyboardInterrupt\u001b[0m                         Traceback (most recent call last)",
      "Cell \u001b[0;32mIn[1], line 55\u001b[0m\n\u001b[1;32m     52\u001b[0m \u001b[38;5;28mprint\u001b[39m(\u001b[38;5;124mf\u001b[39m\u001b[38;5;124m\"\u001b[39m\u001b[38;5;132;01m{\u001b[39;00mnewCase\u001b[38;5;132;01m}\u001b[39;00m\u001b[38;5;124m：全てのクローン操作とファイル編集が完了しました。\u001b[39m\u001b[38;5;124m\"\u001b[39m)\n\u001b[1;32m     54\u001b[0m \u001b[38;5;28;01mwith\u001b[39;00m \u001b[38;5;28mopen\u001b[39m(os\u001b[38;5;241m.\u001b[39mdevnull, \u001b[38;5;124m'\u001b[39m\u001b[38;5;124mw\u001b[39m\u001b[38;5;124m'\u001b[39m) \u001b[38;5;28;01mas\u001b[39;00m devnull:\n\u001b[0;32m---> 55\u001b[0m     \u001b[43msubprocess\u001b[49m\u001b[38;5;241;43m.\u001b[39;49m\u001b[43mrun\u001b[49m\u001b[43m(\u001b[49m\u001b[43m[\u001b[49m\u001b[38;5;124;43mf\u001b[39;49m\u001b[38;5;124;43m'\u001b[39;49m\u001b[38;5;124;43m./Allrun\u001b[39;49m\u001b[38;5;124;43m'\u001b[39;49m\u001b[43m]\u001b[49m\u001b[43m,\u001b[49m\u001b[43m \u001b[49m\u001b[43mcwd\u001b[49m\u001b[38;5;241;43m=\u001b[39;49m\u001b[43mnewCase\u001b[49m\u001b[43m,\u001b[49m\u001b[43m \u001b[49m\u001b[43mstdout\u001b[49m\u001b[38;5;241;43m=\u001b[39;49m\u001b[43mdevnull\u001b[49m\u001b[43m,\u001b[49m\u001b[43m \u001b[49m\u001b[43mstderr\u001b[49m\u001b[38;5;241;43m=\u001b[39;49m\u001b[43mdevnull\u001b[49m\u001b[43m)\u001b[49m\n",
      "File \u001b[0;32m/usr/lib/python3.10/subprocess.py:505\u001b[0m, in \u001b[0;36mrun\u001b[0;34m(input, capture_output, timeout, check, *popenargs, **kwargs)\u001b[0m\n\u001b[1;32m    503\u001b[0m \u001b[38;5;28;01mwith\u001b[39;00m Popen(\u001b[38;5;241m*\u001b[39mpopenargs, \u001b[38;5;241m*\u001b[39m\u001b[38;5;241m*\u001b[39mkwargs) \u001b[38;5;28;01mas\u001b[39;00m process:\n\u001b[1;32m    504\u001b[0m     \u001b[38;5;28;01mtry\u001b[39;00m:\n\u001b[0;32m--> 505\u001b[0m         stdout, stderr \u001b[38;5;241m=\u001b[39m \u001b[43mprocess\u001b[49m\u001b[38;5;241;43m.\u001b[39;49m\u001b[43mcommunicate\u001b[49m\u001b[43m(\u001b[49m\u001b[38;5;28;43minput\u001b[39;49m\u001b[43m,\u001b[49m\u001b[43m \u001b[49m\u001b[43mtimeout\u001b[49m\u001b[38;5;241;43m=\u001b[39;49m\u001b[43mtimeout\u001b[49m\u001b[43m)\u001b[49m\n\u001b[1;32m    506\u001b[0m     \u001b[38;5;28;01mexcept\u001b[39;00m TimeoutExpired \u001b[38;5;28;01mas\u001b[39;00m exc:\n\u001b[1;32m    507\u001b[0m         process\u001b[38;5;241m.\u001b[39mkill()\n",
      "File \u001b[0;32m/usr/lib/python3.10/subprocess.py:1146\u001b[0m, in \u001b[0;36mPopen.communicate\u001b[0;34m(self, input, timeout)\u001b[0m\n\u001b[1;32m   1144\u001b[0m         stderr \u001b[38;5;241m=\u001b[39m \u001b[38;5;28mself\u001b[39m\u001b[38;5;241m.\u001b[39mstderr\u001b[38;5;241m.\u001b[39mread()\n\u001b[1;32m   1145\u001b[0m         \u001b[38;5;28mself\u001b[39m\u001b[38;5;241m.\u001b[39mstderr\u001b[38;5;241m.\u001b[39mclose()\n\u001b[0;32m-> 1146\u001b[0m     \u001b[38;5;28;43mself\u001b[39;49m\u001b[38;5;241;43m.\u001b[39;49m\u001b[43mwait\u001b[49m\u001b[43m(\u001b[49m\u001b[43m)\u001b[49m\n\u001b[1;32m   1147\u001b[0m \u001b[38;5;28;01melse\u001b[39;00m:\n\u001b[1;32m   1148\u001b[0m     \u001b[38;5;28;01mif\u001b[39;00m timeout \u001b[38;5;129;01mis\u001b[39;00m \u001b[38;5;129;01mnot\u001b[39;00m \u001b[38;5;28;01mNone\u001b[39;00m:\n",
      "File \u001b[0;32m/usr/lib/python3.10/subprocess.py:1209\u001b[0m, in \u001b[0;36mPopen.wait\u001b[0;34m(self, timeout)\u001b[0m\n\u001b[1;32m   1207\u001b[0m     endtime \u001b[38;5;241m=\u001b[39m _time() \u001b[38;5;241m+\u001b[39m timeout\n\u001b[1;32m   1208\u001b[0m \u001b[38;5;28;01mtry\u001b[39;00m:\n\u001b[0;32m-> 1209\u001b[0m     \u001b[38;5;28;01mreturn\u001b[39;00m \u001b[38;5;28;43mself\u001b[39;49m\u001b[38;5;241;43m.\u001b[39;49m\u001b[43m_wait\u001b[49m\u001b[43m(\u001b[49m\u001b[43mtimeout\u001b[49m\u001b[38;5;241;43m=\u001b[39;49m\u001b[43mtimeout\u001b[49m\u001b[43m)\u001b[49m\n\u001b[1;32m   1210\u001b[0m \u001b[38;5;28;01mexcept\u001b[39;00m \u001b[38;5;167;01mKeyboardInterrupt\u001b[39;00m:\n\u001b[1;32m   1211\u001b[0m     \u001b[38;5;66;03m# https://bugs.python.org/issue25942\u001b[39;00m\n\u001b[1;32m   1212\u001b[0m     \u001b[38;5;66;03m# The first keyboard interrupt waits briefly for the child to\u001b[39;00m\n\u001b[1;32m   1213\u001b[0m     \u001b[38;5;66;03m# exit under the common assumption that it also received the ^C\u001b[39;00m\n\u001b[1;32m   1214\u001b[0m     \u001b[38;5;66;03m# generated SIGINT and will exit rapidly.\u001b[39;00m\n\u001b[1;32m   1215\u001b[0m     \u001b[38;5;28;01mif\u001b[39;00m timeout \u001b[38;5;129;01mis\u001b[39;00m \u001b[38;5;129;01mnot\u001b[39;00m \u001b[38;5;28;01mNone\u001b[39;00m:\n",
      "File \u001b[0;32m/usr/lib/python3.10/subprocess.py:1959\u001b[0m, in \u001b[0;36mPopen._wait\u001b[0;34m(self, timeout)\u001b[0m\n\u001b[1;32m   1957\u001b[0m \u001b[38;5;28;01mif\u001b[39;00m \u001b[38;5;28mself\u001b[39m\u001b[38;5;241m.\u001b[39mreturncode \u001b[38;5;129;01mis\u001b[39;00m \u001b[38;5;129;01mnot\u001b[39;00m \u001b[38;5;28;01mNone\u001b[39;00m:\n\u001b[1;32m   1958\u001b[0m     \u001b[38;5;28;01mbreak\u001b[39;00m  \u001b[38;5;66;03m# Another thread waited.\u001b[39;00m\n\u001b[0;32m-> 1959\u001b[0m (pid, sts) \u001b[38;5;241m=\u001b[39m \u001b[38;5;28;43mself\u001b[39;49m\u001b[38;5;241;43m.\u001b[39;49m\u001b[43m_try_wait\u001b[49m\u001b[43m(\u001b[49m\u001b[38;5;241;43m0\u001b[39;49m\u001b[43m)\u001b[49m\n\u001b[1;32m   1960\u001b[0m \u001b[38;5;66;03m# Check the pid and loop as waitpid has been known to\u001b[39;00m\n\u001b[1;32m   1961\u001b[0m \u001b[38;5;66;03m# return 0 even without WNOHANG in odd situations.\u001b[39;00m\n\u001b[1;32m   1962\u001b[0m \u001b[38;5;66;03m# http://bugs.python.org/issue14396.\u001b[39;00m\n\u001b[1;32m   1963\u001b[0m \u001b[38;5;28;01mif\u001b[39;00m pid \u001b[38;5;241m==\u001b[39m \u001b[38;5;28mself\u001b[39m\u001b[38;5;241m.\u001b[39mpid:\n",
      "File \u001b[0;32m/usr/lib/python3.10/subprocess.py:1917\u001b[0m, in \u001b[0;36mPopen._try_wait\u001b[0;34m(self, wait_flags)\u001b[0m\n\u001b[1;32m   1915\u001b[0m \u001b[38;5;250m\u001b[39m\u001b[38;5;124;03m\"\"\"All callers to this function MUST hold self._waitpid_lock.\"\"\"\u001b[39;00m\n\u001b[1;32m   1916\u001b[0m \u001b[38;5;28;01mtry\u001b[39;00m:\n\u001b[0;32m-> 1917\u001b[0m     (pid, sts) \u001b[38;5;241m=\u001b[39m \u001b[43mos\u001b[49m\u001b[38;5;241;43m.\u001b[39;49m\u001b[43mwaitpid\u001b[49m\u001b[43m(\u001b[49m\u001b[38;5;28;43mself\u001b[39;49m\u001b[38;5;241;43m.\u001b[39;49m\u001b[43mpid\u001b[49m\u001b[43m,\u001b[49m\u001b[43m \u001b[49m\u001b[43mwait_flags\u001b[49m\u001b[43m)\u001b[49m\n\u001b[1;32m   1918\u001b[0m \u001b[38;5;28;01mexcept\u001b[39;00m \u001b[38;5;167;01mChildProcessError\u001b[39;00m:\n\u001b[1;32m   1919\u001b[0m     \u001b[38;5;66;03m# This happens if SIGCLD is set to be ignored or waiting\u001b[39;00m\n\u001b[1;32m   1920\u001b[0m     \u001b[38;5;66;03m# for child processes has otherwise been disabled for our\u001b[39;00m\n\u001b[1;32m   1921\u001b[0m     \u001b[38;5;66;03m# process.  This child is dead, we can't get the status.\u001b[39;00m\n\u001b[1;32m   1922\u001b[0m     pid \u001b[38;5;241m=\u001b[39m \u001b[38;5;28mself\u001b[39m\u001b[38;5;241m.\u001b[39mpid\n",
      "\u001b[0;31mKeyboardInterrupt\u001b[0m: "
     ]
    }
   ],
   "source": [
    "import os\n",
    "import shutil\n",
    "import threading\n",
    "from pathlib import Path\n",
    "import subprocess\n",
    "from PyFoam.RunDictionary.SolutionDirectory import SolutionDirectory\n",
    "from PyFoam.RunDictionary.ParsedParameterFile import ParsedParameterFile\n",
    "from PyFoam.Execution.BasicRunner import BasicRunner\n",
    "\n",
    "def clone_file(orgCase, resultDir):\n",
    "    \"orgCaseをresultDirに重複しないようにコピー\"\n",
    "    baseName = Path(orgCase).name\n",
    " \n",
    "    addName = None\n",
    "    if addName!=None:\n",
    "        baseName += f'_{addName}'\n",
    " \n",
    "    Path(resultDir).mkdir(exist_ok=True, parents=True)\n",
    " \n",
    "    n=0\n",
    "    newCase = Path(resultDir) / f'{baseName}_{n}'\n",
    " \n",
    "    while newCase.is_dir():\n",
    "        n += 1\n",
    "        newCase = Path(resultDir) / f'{baseName}_{n}'\n",
    " \n",
    "    shutil.copytree(orgCase, newCase)\n",
    "    \n",
    "    return newCase\n",
    "\n",
    "orgCase = \"orgCase\"\n",
    "resultDir = \"results\"\n",
    "\n",
    "U_list = [0.5, 1.0, 2.0, 3.0, 4.0, 5.0]\n",
    "d_mean_list = [0.005, 0.01, 0.02, 0.03, 0.04, 0.05]\n",
    "\n",
    "for U in U_list:\n",
    "    for d_mean in d_mean_list:\n",
    "        # 新しいファイルをコピー\n",
    "        newCase = clone_file(orgCase, resultDir)\n",
    "    \n",
    "        # 流速の変更(001_cavity)\n",
    "        cavity_dir = f\"{newCase}/001_cavity\"\n",
    "        UFile = ParsedParameterFile(os.path.join(cavity_dir, \"0\", \"U\"))\n",
    "        UFile[\"boundaryField\"][\"movingWall\"][\"value\"] = f'uniform ({U} 0 0)'\n",
    "        \n",
    "        # 粒子径の変更 (002_particle)\n",
    "        particle_dir = f\"{newCase}/002_particle\"\n",
    "        kinematicCloudPropertiesFile = ParsedParameterFile(os.path.join(particle_dir, \"constant\", \"kinematicCloudProperties\"))\n",
    "        kinematicCloudPropertiesFile[\"subModels\"][\"injectionModels\"][\"model1\"][\"sizeDistribution\"][\"fixedValueDistribution\"][\"value\"] = d_mean\n",
    "        kinematicCloudPropertiesFile.writeFile()\n",
    "        print(f\"{newCase}：全てのクローン操作とファイル編集が完了しました。\")\n",
    "        \n",
    "        with open(os.devnull, 'w') as devnull:\n",
    "            subprocess.run([f'./Allrun'], cwd=newCase, stdout=devnull, stderr=devnull)"
   ]
  },
  {
   "cell_type": "code",
   "execution_count": 34,
   "id": "107b0b5b-2f21-4f30-923c-3284dceab6fb",
   "metadata": {},
   "outputs": [
    {
     "data": {
      "application/vnd.jupyter.widget-view+json": {
       "model_id": "ba79a5e3eb9143419f71096c1b1d9a25",
       "version_major": 2,
       "version_minor": 0
      },
      "text/plain": [
       "Widget(value='<iframe src=\"http://localhost:44411/index.html?ui=P_0x7f1cc85f3130_7&reconnect=auto\" class=\"pyvi…"
      ]
     },
     "metadata": {},
     "output_type": "display_data"
    }
   ],
   "source": [
    "import pyvista as pv\n",
    "\n",
    "# PyVistaでの処理\n",
    "# ファイルパス\n",
    "particle_dir = 'results/orgCase_8/002_particle'\n",
    "filename = f\"{particle_dir}/VTK/lagrangian/kinematicCloud/kinematicCloud_5000.vtp\"\n",
    "\n",
    "# メッシュデータの読み込み\n",
    "vtk_mesh = pv.read(filename)\n",
    "\n",
    "# ベクトルを矢印で表示\n",
    "glyphs = vtk_mesh.glyph(orient=\"U\", scale=\"U\", factor=0.03)\n",
    "\n",
    "# プロッターを作成\n",
    "plotter = pv.Plotter(off_screen=True)  # GUI を開かずにオフスクリーン描画\n",
    "\n",
    "# メッシュを追加\n",
    "plotter.add_mesh(vtk_mesh, color=\"blue\", point_size=30, render_points_as_spheres=True)\n",
    "plotter.add_mesh(glyphs, cmap=\"jet\")\n",
    "\n",
    "# カメラ調整（オプション）\n",
    "plotter.camera_position = \"xy\"\n",
    "# plotter.zoom_camera(10.0)\n",
    "\n",
    "plotter.show()\n",
    "# 画像を保存\n",
    "# plotter.screenshot(f\"{resultDir}/{d_mean}.png\")\n",
    "\n",
    "# print(\"PNG画像として保存しました: output.png\")"
   ]
  },
  {
   "cell_type": "code",
   "execution_count": null,
   "id": "8b0a4552-70c7-4cfe-b75a-276406894fcd",
   "metadata": {},
   "outputs": [],
   "source": []
  },
  {
   "cell_type": "code",
   "execution_count": null,
   "id": "79cd9fe2-468f-4750-885b-0b18b66549c3",
   "metadata": {},
   "outputs": [],
   "source": []
  }
 ],
 "metadata": {
  "kernelspec": {
   "display_name": "Python 3 (ipykernel)",
   "language": "python",
   "name": "python3"
  },
  "language_info": {
   "codemirror_mode": {
    "name": "ipython",
    "version": 3
   },
   "file_extension": ".py",
   "mimetype": "text/x-python",
   "name": "python",
   "nbconvert_exporter": "python",
   "pygments_lexer": "ipython3",
   "version": "3.10.12"
  }
 },
 "nbformat": 4,
 "nbformat_minor": 5
}
